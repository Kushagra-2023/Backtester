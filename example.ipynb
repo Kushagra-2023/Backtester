{
  "nbformat": 4,
  "nbformat_minor": 0,
  "metadata": {
    "colab": {
      "provenance": []
    },
    "kernelspec": {
      "name": "python3",
      "display_name": "Python 3"
    },
    "language_info": {
      "name": "python"
    }
  },
  "cells": [
    {
      "cell_type": "code",
      "execution_count": null,
      "metadata": {
        "id": "UIIXiQVHIfQc"
      },
      "outputs": [],
      "source": [
        "from backtester import DataLoader, Strategy, Engine"
      ]
    },
    {
      "cell_type": "code",
      "source": [
        "class TestStrategy(Strategy):\n",
        "    def init(self):\n",
        "        self.day_count = 0\n",
        "\n",
        "    def next(self):\n",
        "        self.day_count += 1\n",
        "        close_price = self.current_row['Close']\n",
        "        print(f\"Day {self.day_count} | Close: {close_price} | Position: {self.position} | Cash: {self.cash}\")\n",
        "\n",
        "        if self.day_count % 2:\n",
        "            self.buy(1)\n",
        "        else:\n",
        "            self.sell(1)"
      ],
      "metadata": {
        "id": "QMWfZCvhIimq"
      },
      "execution_count": null,
      "outputs": []
    },
    {
      "cell_type": "code",
      "source": [
        "dataloader = DataLoader(\n",
        "    ticker=\"AAPL\",\n",
        "    start_date=\"2023-06-01\",\n",
        "    end_date=\"2024-06-10\",\n",
        "    interval=\"1d\",\n",
        "    chunk_size=None,\n",
        "    csv_file=None\n",
        ")"
      ],
      "metadata": {
        "id": "ywKUNN8wIl86"
      },
      "execution_count": null,
      "outputs": []
    },
    {
      "cell_type": "code",
      "source": [
        "engine = Engine(\n",
        "    dataloader=dataloader,\n",
        "    strategy_class=TestStrategy,\n",
        "    initial_cash=10000,\n",
        "    apply_commission=True,\n",
        "    commission_rate=0.001\n",
        ")\n",
        "\n",
        "engine.run()"
      ],
      "metadata": {
        "id": "hpAHNtYDIqKG"
      },
      "execution_count": null,
      "outputs": []
    },
    {
      "cell_type": "code",
      "source": [
        "engine.plotter.equity_curve()"
      ],
      "metadata": {
        "id": "MZKlj7ScIt_X"
      },
      "execution_count": null,
      "outputs": []
    },
    {
      "cell_type": "code",
      "source": [
        "engine.plotter.drawdown_curve()"
      ],
      "metadata": {
        "id": "NvsNlKa-Iu75"
      },
      "execution_count": null,
      "outputs": []
    },
    {
      "cell_type": "code",
      "source": [
        "engine.plotter.returns_histogram()"
      ],
      "metadata": {
        "id": "LHVlUOJdI2ba"
      },
      "execution_count": null,
      "outputs": []
    }
  ]
}