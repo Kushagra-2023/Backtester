# Imports (assume backtester.py is in the same directory)
from backtester import DataLoader, Strategy, Engine
import datetime

class TestStrategy(Strategy):
    def init(self):
        self.day_count = 0

    def next(self):
        self.day_count += 1
        close_price = self.current_row['Close']
        print(f"Day {self.day_count} | Close: {close_price} | Position: {self.position} | Cash: {self.cash}")

        if self.day_count % 2:
            self.buy(1)
        else:
            self.sell(1)

dataloader = DataLoader(
    ticker="AAPL",
    start_date="2023-06-01",
    end_date="2024-06-10",
    interval="1d",
    chunk_size=None,
    csv_file=None
)

engine = Engine(
    dataloader=dataloader,
    strategy_class=TestStrategy,
    initial_cash=10000,
    apply_commission=True,
    commission_rate=0.001
)

engine.run()
