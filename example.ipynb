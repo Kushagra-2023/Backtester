{
 "cells": [
  {
   "cell_type": "code",
   "execution_count": 12,
   "metadata": {
    "id": "UIIXiQVHIfQc"
   },
   "outputs": [],
   "source": [
    "%matplotlib inline\n",
    "from backtester import DataLoader, Strategy, Engine"
   ]
  },
  {
   "cell_type": "code",
   "execution_count": 6,
   "metadata": {
    "id": "QMWfZCvhIimq"
   },
   "outputs": [],
   "source": [
    "class TestStrategy(Strategy):\n",
    "    def init(self):\n",
    "        self.day_count = 0\n",
    "\n",
    "    def next(self):\n",
    "        self.day_count += 1\n",
    "        close_price = self.current_row['Close']\n",
    "        print(f\"Day {self.day_count} | Close: {close_price} | Position: {self.position} | Cash: {self.cash}\")\n",
    "\n",
    "        if self.day_count % 2:\n",
    "            self.buy(1)\n",
    "        else:\n",
    "            self.sell(1)"
   ]
  },
  {
   "cell_type": "code",
   "execution_count": 7,
   "metadata": {
    "id": "ywKUNN8wIl86"
   },
   "outputs": [],
   "source": [
    "dataloader = DataLoader(\n",
    "    ticker=\"AAPL\",\n",
    "    start_date=\"2023-06-01\",\n",
    "    end_date=\"2024-06-10\",\n",
    "    interval=\"1d\",\n",
    "    chunk_size=None,\n",
    "    csv_file=None\n",
    ")"
   ]
  },
  {
   "cell_type": "code",
   "execution_count": null,
   "metadata": {
    "id": "hpAHNtYDIqKG"
   },
   "outputs": [],
   "source": [
    "engine = Engine(\n",
    "    dataloader=dataloader,\n",
    "    strategy_class=TestStrategy,\n",
    "    initial_cash=10000,\n",
    "    apply_commission=True,\n",
    "    commission_rate=0.001\n",
    ")\n",
    "\n",
    "engine.run()"
   ]
  },
  {
   "cell_type": "code",
   "execution_count": null,
   "metadata": {
    "id": "MZKlj7ScIt_X"
   },
   "outputs": [],
   "source": [
    "engine.plotter.equity_curve()"
   ]
  },
  {
   "cell_type": "code",
   "execution_count": null,
   "metadata": {
    "id": "NvsNlKa-Iu75"
   },
   "outputs": [],
   "source": [
    "engine.plotter.drawdown_curve()"
   ]
  },
  {
   "cell_type": "code",
   "execution_count": null,
   "metadata": {
    "id": "LHVlUOJdI2ba"
   },
   "outputs": [],
   "source": [
    "engine.plotter.returns_histogram()"
   ]
  },
  {
   "cell_type": "code",
   "execution_count": null,
   "metadata": {},
   "outputs": [],
   "source": []
  }
 ],
 "metadata": {
  "colab": {
   "provenance": []
  },
  "kernelspec": {
   "display_name": "Python 3 (ipykernel)",
   "language": "python",
   "name": "python3"
  },
  "language_info": {
   "codemirror_mode": {
    "name": "ipython",
    "version": 3
   },
   "file_extension": ".py",
   "mimetype": "text/x-python",
   "name": "python",
   "nbconvert_exporter": "python",
   "pygments_lexer": "ipython3",
   "version": "3.11.7"
  }
 },
 "nbformat": 4,
 "nbformat_minor": 4
}
